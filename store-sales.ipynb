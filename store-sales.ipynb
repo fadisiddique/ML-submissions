{
 "cells": [
  {
   "cell_type": "code",
   "execution_count": 1,
   "id": "602bdd83",
   "metadata": {
    "_cell_guid": "b1076dfc-b9ad-4769-8c92-a6c4dae69d19",
    "_uuid": "8f2839f25d086af736a60e9eeb907d3b93b6e0e5",
    "execution": {
     "iopub.execute_input": "2025-07-10T15:23:53.525363Z",
     "iopub.status.busy": "2025-07-10T15:23:53.525067Z",
     "iopub.status.idle": "2025-07-10T15:23:55.496547Z",
     "shell.execute_reply": "2025-07-10T15:23:55.495559Z"
    },
    "papermill": {
     "duration": 1.978204,
     "end_time": "2025-07-10T15:23:55.498286",
     "exception": false,
     "start_time": "2025-07-10T15:23:53.520082",
     "status": "completed"
    },
    "tags": []
   },
   "outputs": [
    {
     "name": "stdout",
     "output_type": "stream",
     "text": [
      "/kaggle/input/store-sales-time-series-forecasting/oil.csv\n",
      "/kaggle/input/store-sales-time-series-forecasting/sample_submission.csv\n",
      "/kaggle/input/store-sales-time-series-forecasting/holidays_events.csv\n",
      "/kaggle/input/store-sales-time-series-forecasting/stores.csv\n",
      "/kaggle/input/store-sales-time-series-forecasting/train.csv\n",
      "/kaggle/input/store-sales-time-series-forecasting/test.csv\n",
      "/kaggle/input/store-sales-time-series-forecasting/transactions.csv\n"
     ]
    }
   ],
   "source": [
    "# This Python 3 environment comes with many helpful analytics libraries installed\n",
    "# It is defined by the kaggle/python Docker image: https://github.com/kaggle/docker-python\n",
    "# For example, here's several helpful packages to load\n",
    "\n",
    "import numpy as np # linear algebra\n",
    "import pandas as pd # data processing, CSV file I/O (e.g. pd.read_csv)\n",
    "\n",
    "# Input data files are available in the read-only \"../input/\" directory\n",
    "# For example, running this (by clicking run or pressing Shift+Enter) will list all files under the input directory\n",
    "\n",
    "import os\n",
    "for dirname, _, filenames in os.walk('/kaggle/input'):\n",
    "    for filename in filenames:\n",
    "        print(os.path.join(dirname, filename))\n",
    "\n",
    "# You can write up to 20GB to the current directory (/kaggle/working/) that gets preserved as output when you create a version using \"Save & Run All\" \n",
    "# You can also write temporary files to /kaggle/temp/, but they won't be saved outside of the current session"
   ]
  },
  {
   "cell_type": "code",
   "execution_count": 2,
   "id": "c50f291c",
   "metadata": {
    "execution": {
     "iopub.execute_input": "2025-07-10T15:23:55.507340Z",
     "iopub.status.busy": "2025-07-10T15:23:55.506744Z",
     "iopub.status.idle": "2025-07-10T15:23:59.227608Z",
     "shell.execute_reply": "2025-07-10T15:23:59.226565Z"
    },
    "papermill": {
     "duration": 3.727288,
     "end_time": "2025-07-10T15:23:59.229310",
     "exception": false,
     "start_time": "2025-07-10T15:23:55.502022",
     "status": "completed"
    },
    "tags": []
   },
   "outputs": [],
   "source": [
    "train=pd.read_csv(\"/kaggle/input/store-sales-time-series-forecasting/train.csv\",parse_dates=['date'])\n",
    "test=pd.read_csv(\"/kaggle/input/store-sales-time-series-forecasting/test.csv\",parse_dates=['date'])\n",
    "oil=pd.read_csv(\"/kaggle/input/store-sales-time-series-forecasting/oil.csv\")\n",
    "sample_submission=pd.read_csv(\"/kaggle/input/store-sales-time-series-forecasting/sample_submission.csv\")\n",
    "holiday_events=pd.read_csv(\"/kaggle/input/store-sales-time-series-forecasting/holidays_events.csv\")\n",
    "stores=pd.read_csv(\"/kaggle/input/store-sales-time-series-forecasting/stores.csv\")\n",
    "transactions=pd.read_csv(\"/kaggle/input/store-sales-time-series-forecasting/transactions.csv\")"
   ]
  },
  {
   "cell_type": "code",
   "execution_count": 3,
   "id": "5fc8470b",
   "metadata": {
    "execution": {
     "iopub.execute_input": "2025-07-10T15:23:59.237060Z",
     "iopub.status.busy": "2025-07-10T15:23:59.236713Z",
     "iopub.status.idle": "2025-07-10T15:23:59.240824Z",
     "shell.execute_reply": "2025-07-10T15:23:59.240029Z"
    },
    "papermill": {
     "duration": 0.009366,
     "end_time": "2025-07-10T15:23:59.242179",
     "exception": false,
     "start_time": "2025-07-10T15:23:59.232813",
     "status": "completed"
    },
    "tags": []
   },
   "outputs": [],
   "source": [
    "\n",
    "# test.head()"
   ]
  },
  {
   "cell_type": "code",
   "execution_count": 4,
   "id": "a317c850",
   "metadata": {
    "execution": {
     "iopub.execute_input": "2025-07-10T15:23:59.250061Z",
     "iopub.status.busy": "2025-07-10T15:23:59.249257Z",
     "iopub.status.idle": "2025-07-10T15:23:59.738183Z",
     "shell.execute_reply": "2025-07-10T15:23:59.737310Z"
    },
    "papermill": {
     "duration": 0.494521,
     "end_time": "2025-07-10T15:23:59.739961",
     "exception": false,
     "start_time": "2025-07-10T15:23:59.245440",
     "status": "completed"
    },
    "tags": []
   },
   "outputs": [],
   "source": [
    "\n",
    "train['year']=train['date'].dt.year\n",
    "train['month']=train['date'].dt.month\n",
    "train['day']=train['date'].dt.day\n",
    "train['weekday']=train['date'].dt.weekday\n",
    "# train=train.drop(columns=['date'])\n",
    "\n",
    "y=train.sales\n",
    "X=train.select_dtypes(include=['number']).drop(columns=['sales'])\n"
   ]
  },
  {
   "cell_type": "code",
   "execution_count": 5,
   "id": "34044dde",
   "metadata": {
    "execution": {
     "iopub.execute_input": "2025-07-10T15:23:59.747441Z",
     "iopub.status.busy": "2025-07-10T15:23:59.747120Z",
     "iopub.status.idle": "2025-07-10T15:24:02.379479Z",
     "shell.execute_reply": "2025-07-10T15:24:02.378541Z"
    },
    "papermill": {
     "duration": 2.638173,
     "end_time": "2025-07-10T15:24:02.381347",
     "exception": false,
     "start_time": "2025-07-10T15:23:59.743174",
     "status": "completed"
    },
    "tags": []
   },
   "outputs": [],
   "source": [
    "from xgboost import XGBRegressor\n",
    "from sklearn.model_selection import GridSearchCV,RandomizedSearchCV\n",
    "from sklearn.model_selection import train_test_split\n",
    "from sklearn.metrics import mean_absolute_error,mean_squared_error,r2_score\n",
    "X_train,X_test,y_train,y_test=train_test_split(X,y,random_state=42)\n"
   ]
  },
  {
   "cell_type": "code",
   "execution_count": 6,
   "id": "2dc1fbe1",
   "metadata": {
    "execution": {
     "iopub.execute_input": "2025-07-10T15:24:02.389110Z",
     "iopub.status.busy": "2025-07-10T15:24:02.388665Z",
     "iopub.status.idle": "2025-07-10T15:24:50.169939Z",
     "shell.execute_reply": "2025-07-10T15:24:50.169007Z"
    },
    "papermill": {
     "duration": 47.789538,
     "end_time": "2025-07-10T15:24:50.174112",
     "exception": false,
     "start_time": "2025-07-10T15:24:02.384574",
     "status": "completed"
    },
    "tags": []
   },
   "outputs": [
    {
     "name": "stdout",
     "output_type": "stream",
     "text": [
      "abs error 313.4310227153571\n",
      "squared error 576344.1663782502\n",
      "r2 score 0.532485780073731\n"
     ]
    }
   ],
   "source": [
    "\n",
    "model=XGBRegressor(n_jobs=-1,\n",
    "                   random_state=42,\n",
    "                  n_estimators=500,\n",
    "                  max_depth=7,\n",
    "                  learning_rate=0.1,\n",
    "                  reg_alpha=1,\n",
    "                  reg_lambda=1,\n",
    "                  subsample=0.7,\n",
    "                  colsample_bytree=0.8)\n",
    "# params={\n",
    "#     'n_estimators':[100,500,1000],\n",
    "#     'max_depth':[3,5,7],\n",
    "#     'reg_lambda':[0,0.1,1],\n",
    "#     'reg_alpha':[0,0.1,1],\n",
    "#     'learning_rate':[0.1,0.05,0.01],\n",
    "#     'subsample':[0.7,0.8,1],\n",
    "#     'colsample_bytree':[0.7,0.8,1]\n",
    "# }\n",
    "# r_search=RandomizedSearchCV(\n",
    "#     estimator=model,\n",
    "#     param_distributions=params,\n",
    "#     cv=3,\n",
    "#     scoring='neg_mean_absolute_error',\n",
    "#     verbose=1,\n",
    "#     n_jobs=-1\n",
    "    \n",
    "# )\n",
    "# r_search.fit(X_train,y_train)\n",
    "# best_model=r_search.best_estimator_\n",
    "# pred=best_model.predict(X_test)\n",
    "model.fit(X_train,y_train)\n",
    "pred=model.predict(X_test)\n",
    "# print(\"best parameters\",r_search.best_params_)\n",
    "print(\"abs error\",mean_absolute_error(y_test,pred))\n",
    "print(\"squared error\",mean_squared_error(y_test,pred))\n",
    "print(\"r2 score\",r2_score(y_test,pred))\n"
   ]
  },
  {
   "cell_type": "code",
   "execution_count": 7,
   "id": "23dea537",
   "metadata": {
    "execution": {
     "iopub.execute_input": "2025-07-10T15:24:50.181870Z",
     "iopub.status.busy": "2025-07-10T15:24:50.181191Z",
     "iopub.status.idle": "2025-07-10T15:24:50.367513Z",
     "shell.execute_reply": "2025-07-10T15:24:50.366791Z"
    },
    "papermill": {
     "duration": 0.192074,
     "end_time": "2025-07-10T15:24:50.369282",
     "exception": false,
     "start_time": "2025-07-10T15:24:50.177208",
     "status": "completed"
    },
    "tags": []
   },
   "outputs": [],
   "source": [
    "test['year']=test['date'].dt.year\n",
    "test['month']=test['date'].dt.month\n",
    "test['day']=test['date'].dt.day\n",
    "test['weekday']=test['date'].dt.weekday\n",
    "main_test=test.select_dtypes(include=['number'])\n",
    "\n",
    "main_pred=model.predict(main_test)\n"
   ]
  },
  {
   "cell_type": "code",
   "execution_count": 8,
   "id": "8c1f1f41",
   "metadata": {
    "execution": {
     "iopub.execute_input": "2025-07-10T15:24:50.377251Z",
     "iopub.status.busy": "2025-07-10T15:24:50.376938Z",
     "iopub.status.idle": "2025-07-10T15:24:50.434874Z",
     "shell.execute_reply": "2025-07-10T15:24:50.433791Z"
    },
    "papermill": {
     "duration": 0.063821,
     "end_time": "2025-07-10T15:24:50.436711",
     "exception": false,
     "start_time": "2025-07-10T15:24:50.372890",
     "status": "completed"
    },
    "tags": []
   },
   "outputs": [],
   "source": [
    "submission=pd.DataFrame({\n",
    "    'id':test.id,\n",
    "    'sales':main_pred\n",
    "})\n",
    "submission.to_csv(\"submission.csv\",index=False)"
   ]
  },
  {
   "cell_type": "code",
   "execution_count": 9,
   "id": "c858e84e",
   "metadata": {
    "execution": {
     "iopub.execute_input": "2025-07-10T15:24:50.444293Z",
     "iopub.status.busy": "2025-07-10T15:24:50.444020Z",
     "iopub.status.idle": "2025-07-10T15:24:50.448543Z",
     "shell.execute_reply": "2025-07-10T15:24:50.447587Z"
    },
    "papermill": {
     "duration": 0.009977,
     "end_time": "2025-07-10T15:24:50.450046",
     "exception": false,
     "start_time": "2025-07-10T15:24:50.440069",
     "status": "completed"
    },
    "tags": []
   },
   "outputs": [],
   "source": [
    "# transactions.head()"
   ]
  },
  {
   "cell_type": "code",
   "execution_count": 10,
   "id": "274f4234",
   "metadata": {
    "execution": {
     "iopub.execute_input": "2025-07-10T15:24:50.457436Z",
     "iopub.status.busy": "2025-07-10T15:24:50.457155Z",
     "iopub.status.idle": "2025-07-10T15:24:50.461344Z",
     "shell.execute_reply": "2025-07-10T15:24:50.460479Z"
    },
    "papermill": {
     "duration": 0.009581,
     "end_time": "2025-07-10T15:24:50.462855",
     "exception": false,
     "start_time": "2025-07-10T15:24:50.453274",
     "status": "completed"
    },
    "tags": []
   },
   "outputs": [],
   "source": [
    "# oil.head()"
   ]
  },
  {
   "cell_type": "code",
   "execution_count": 11,
   "id": "f2a95542",
   "metadata": {
    "execution": {
     "iopub.execute_input": "2025-07-10T15:24:50.470347Z",
     "iopub.status.busy": "2025-07-10T15:24:50.470030Z",
     "iopub.status.idle": "2025-07-10T15:24:50.473986Z",
     "shell.execute_reply": "2025-07-10T15:24:50.473110Z"
    },
    "papermill": {
     "duration": 0.009335,
     "end_time": "2025-07-10T15:24:50.475323",
     "exception": false,
     "start_time": "2025-07-10T15:24:50.465988",
     "status": "completed"
    },
    "tags": []
   },
   "outputs": [],
   "source": [
    "# holiday_events.head()"
   ]
  },
  {
   "cell_type": "code",
   "execution_count": 12,
   "id": "8ef111c9",
   "metadata": {
    "execution": {
     "iopub.execute_input": "2025-07-10T15:24:50.482854Z",
     "iopub.status.busy": "2025-07-10T15:24:50.482451Z",
     "iopub.status.idle": "2025-07-10T15:24:50.486266Z",
     "shell.execute_reply": "2025-07-10T15:24:50.485527Z"
    },
    "papermill": {
     "duration": 0.009064,
     "end_time": "2025-07-10T15:24:50.487547",
     "exception": false,
     "start_time": "2025-07-10T15:24:50.478483",
     "status": "completed"
    },
    "tags": []
   },
   "outputs": [],
   "source": [
    "# stores.head()"
   ]
  },
  {
   "cell_type": "code",
   "execution_count": 13,
   "id": "3eb25c62",
   "metadata": {
    "execution": {
     "iopub.execute_input": "2025-07-10T15:24:50.494854Z",
     "iopub.status.busy": "2025-07-10T15:24:50.494543Z",
     "iopub.status.idle": "2025-07-10T15:24:50.514982Z",
     "shell.execute_reply": "2025-07-10T15:24:50.513974Z"
    },
    "papermill": {
     "duration": 0.026101,
     "end_time": "2025-07-10T15:24:50.516777",
     "exception": false,
     "start_time": "2025-07-10T15:24:50.490676",
     "status": "completed"
    },
    "tags": []
   },
   "outputs": [
    {
     "data": {
      "text/html": [
       "<div>\n",
       "<style scoped>\n",
       "    .dataframe tbody tr th:only-of-type {\n",
       "        vertical-align: middle;\n",
       "    }\n",
       "\n",
       "    .dataframe tbody tr th {\n",
       "        vertical-align: top;\n",
       "    }\n",
       "\n",
       "    .dataframe thead th {\n",
       "        text-align: right;\n",
       "    }\n",
       "</style>\n",
       "<table border=\"1\" class=\"dataframe\">\n",
       "  <thead>\n",
       "    <tr style=\"text-align: right;\">\n",
       "      <th></th>\n",
       "      <th>id</th>\n",
       "      <th>sales</th>\n",
       "    </tr>\n",
       "  </thead>\n",
       "  <tbody>\n",
       "    <tr>\n",
       "      <th>0</th>\n",
       "      <td>3000888</td>\n",
       "      <td>0.0</td>\n",
       "    </tr>\n",
       "    <tr>\n",
       "      <th>1</th>\n",
       "      <td>3000889</td>\n",
       "      <td>0.0</td>\n",
       "    </tr>\n",
       "    <tr>\n",
       "      <th>2</th>\n",
       "      <td>3000890</td>\n",
       "      <td>0.0</td>\n",
       "    </tr>\n",
       "    <tr>\n",
       "      <th>3</th>\n",
       "      <td>3000891</td>\n",
       "      <td>0.0</td>\n",
       "    </tr>\n",
       "    <tr>\n",
       "      <th>4</th>\n",
       "      <td>3000892</td>\n",
       "      <td>0.0</td>\n",
       "    </tr>\n",
       "  </tbody>\n",
       "</table>\n",
       "</div>"
      ],
      "text/plain": [
       "        id  sales\n",
       "0  3000888    0.0\n",
       "1  3000889    0.0\n",
       "2  3000890    0.0\n",
       "3  3000891    0.0\n",
       "4  3000892    0.0"
      ]
     },
     "execution_count": 13,
     "metadata": {},
     "output_type": "execute_result"
    }
   ],
   "source": [
    "sample_submission.head()"
   ]
  },
  {
   "cell_type": "code",
   "execution_count": null,
   "id": "3d5c5d8a",
   "metadata": {
    "papermill": {
     "duration": 0.002973,
     "end_time": "2025-07-10T15:24:50.523295",
     "exception": false,
     "start_time": "2025-07-10T15:24:50.520322",
     "status": "completed"
    },
    "tags": []
   },
   "outputs": [],
   "source": []
  }
 ],
 "metadata": {
  "kaggle": {
   "accelerator": "none",
   "dataSources": [
    {
     "databundleVersionId": 2887556,
     "sourceId": 29781,
     "sourceType": "competition"
    }
   ],
   "dockerImageVersionId": 31040,
   "isGpuEnabled": false,
   "isInternetEnabled": false,
   "language": "python",
   "sourceType": "notebook"
  },
  "kernelspec": {
   "display_name": "Python 3",
   "language": "python",
   "name": "python3"
  },
  "language_info": {
   "codemirror_mode": {
    "name": "ipython",
    "version": 3
   },
   "file_extension": ".py",
   "mimetype": "text/x-python",
   "name": "python",
   "nbconvert_exporter": "python",
   "pygments_lexer": "ipython3",
   "version": "3.11.11"
  },
  "papermill": {
   "default_parameters": {},
   "duration": 63.528978,
   "end_time": "2025-07-10T15:24:51.247438",
   "environment_variables": {},
   "exception": null,
   "input_path": "__notebook__.ipynb",
   "output_path": "__notebook__.ipynb",
   "parameters": {},
   "start_time": "2025-07-10T15:23:47.718460",
   "version": "2.6.0"
  }
 },
 "nbformat": 4,
 "nbformat_minor": 5
}
