{
 "cells": [
  {
   "cell_type": "code",
   "execution_count": 1,
   "id": "c1260c69",
   "metadata": {
    "_cell_guid": "b1076dfc-b9ad-4769-8c92-a6c4dae69d19",
    "_uuid": "8f2839f25d086af736a60e9eeb907d3b93b6e0e5",
    "execution": {
     "iopub.execute_input": "2025-07-10T14:50:59.912935Z",
     "iopub.status.busy": "2025-07-10T14:50:59.912057Z",
     "iopub.status.idle": "2025-07-10T14:51:01.986536Z",
     "shell.execute_reply": "2025-07-10T14:51:01.985495Z"
    },
    "papermill": {
     "duration": 2.080935,
     "end_time": "2025-07-10T14:51:01.988334",
     "exception": false,
     "start_time": "2025-07-10T14:50:59.907399",
     "status": "completed"
    },
    "tags": []
   },
   "outputs": [
    {
     "name": "stdout",
     "output_type": "stream",
     "text": [
      "/kaggle/input/nlp-getting-started/sample_submission.csv\n",
      "/kaggle/input/nlp-getting-started/train.csv\n",
      "/kaggle/input/nlp-getting-started/test.csv\n"
     ]
    }
   ],
   "source": [
    "# This Python 3 environment comes with many helpful analytics libraries installed\n",
    "# It is defined by the kaggle/python Docker image: https://github.com/kaggle/docker-python\n",
    "# For example, here's several helpful packages to load\n",
    "\n",
    "import numpy as np # linear algebra\n",
    "import pandas as pd # data processing, CSV file I/O (e.g. pd.read_csv)\n",
    "\n",
    "# Input data files are available in the read-only \"../input/\" directory\n",
    "# For example, running this (by clicking run or pressing Shift+Enter) will list all files under the input directory\n",
    "\n",
    "import os\n",
    "for dirname, _, filenames in os.walk('/kaggle/input'):\n",
    "    for filename in filenames:\n",
    "        print(os.path.join(dirname, filename))\n",
    "\n",
    "# You can write up to 20GB to the current directory (/kaggle/working/) that gets preserved as output when you create a version using \"Save & Run All\" \n",
    "# You can also write temporary files to /kaggle/temp/, but they won't be saved outside of the current session"
   ]
  },
  {
   "cell_type": "code",
   "execution_count": 2,
   "id": "6b1e600d",
   "metadata": {
    "execution": {
     "iopub.execute_input": "2025-07-10T14:51:01.995809Z",
     "iopub.status.busy": "2025-07-10T14:51:01.995283Z",
     "iopub.status.idle": "2025-07-10T14:51:02.088359Z",
     "shell.execute_reply": "2025-07-10T14:51:02.087421Z"
    },
    "papermill": {
     "duration": 0.098592,
     "end_time": "2025-07-10T14:51:02.090181",
     "exception": false,
     "start_time": "2025-07-10T14:51:01.991589",
     "status": "completed"
    },
    "tags": []
   },
   "outputs": [],
   "source": [
    "train=pd.read_csv(\"/kaggle/input/nlp-getting-started/train.csv\")\n",
    "test=pd.read_csv(\"/kaggle/input/nlp-getting-started/test.csv\")\n",
    "sub=pd.read_csv(\"/kaggle/input/nlp-getting-started/sample_submission.csv\")"
   ]
  },
  {
   "cell_type": "code",
   "execution_count": 3,
   "id": "86fb56a9",
   "metadata": {
    "execution": {
     "iopub.execute_input": "2025-07-10T14:51:02.097715Z",
     "iopub.status.busy": "2025-07-10T14:51:02.096773Z",
     "iopub.status.idle": "2025-07-10T14:51:04.086363Z",
     "shell.execute_reply": "2025-07-10T14:51:04.085245Z"
    },
    "papermill": {
     "duration": 1.995244,
     "end_time": "2025-07-10T14:51:04.088318",
     "exception": false,
     "start_time": "2025-07-10T14:51:02.093074",
     "status": "completed"
    },
    "tags": []
   },
   "outputs": [],
   "source": [
    "from sklearn.model_selection import train_test_split\n",
    "from sklearn.metrics import classification_report, accuracy_score\n",
    "from sklearn.linear_model import LogisticRegression\n",
    "from sklearn.naive_bayes import MultinomialNB\n",
    "from sklearn.compose import ColumnTransformer\n",
    "from sklearn.pipeline import Pipeline\n",
    "import re\n",
    "from sklearn.feature_extraction.text import TfidfVectorizer\n"
   ]
  },
  {
   "cell_type": "code",
   "execution_count": 4,
   "id": "dd6382d2",
   "metadata": {
    "execution": {
     "iopub.execute_input": "2025-07-10T14:51:04.094781Z",
     "iopub.status.busy": "2025-07-10T14:51:04.094294Z",
     "iopub.status.idle": "2025-07-10T14:51:04.099619Z",
     "shell.execute_reply": "2025-07-10T14:51:04.098633Z"
    },
    "papermill": {
     "duration": 0.010211,
     "end_time": "2025-07-10T14:51:04.101173",
     "exception": false,
     "start_time": "2025-07-10T14:51:04.090962",
     "status": "completed"
    },
    "tags": []
   },
   "outputs": [],
   "source": [
    "def clean_text(text):\n",
    "    text=text.lower()\n",
    "    text=re.sub(r\"https\\S+\",\"\",text)\n",
    "    text=re.sub(r\"[^a-z\\s]\",\"\",text)\n",
    "    return (text)\n"
   ]
  },
  {
   "cell_type": "code",
   "execution_count": 5,
   "id": "5f971be0",
   "metadata": {
    "execution": {
     "iopub.execute_input": "2025-07-10T14:51:04.107677Z",
     "iopub.status.busy": "2025-07-10T14:51:04.107281Z",
     "iopub.status.idle": "2025-07-10T14:51:04.195352Z",
     "shell.execute_reply": "2025-07-10T14:51:04.194259Z"
    },
    "papermill": {
     "duration": 0.093284,
     "end_time": "2025-07-10T14:51:04.197077",
     "exception": false,
     "start_time": "2025-07-10T14:51:04.103793",
     "status": "completed"
    },
    "tags": []
   },
   "outputs": [],
   "source": [
    "train.keyword=train.keyword.fillna(\"unknown\")\n",
    "train.location=train.location.fillna(\"unknown\")\n",
    "test.keyword=test.keyword.fillna(\"unknown\")\n",
    "test.location=test.location.fillna(\"unknown\")\n",
    "train['text']=train['text'].apply(clean_text)\n",
    "test['text']=test['text'].apply(clean_text)\n",
    "test_main=test[['keyword','location','text']]\n"
   ]
  },
  {
   "cell_type": "code",
   "execution_count": 6,
   "id": "a68f78ea",
   "metadata": {
    "execution": {
     "iopub.execute_input": "2025-07-10T14:51:04.204182Z",
     "iopub.status.busy": "2025-07-10T14:51:04.203066Z",
     "iopub.status.idle": "2025-07-10T14:51:04.211898Z",
     "shell.execute_reply": "2025-07-10T14:51:04.210863Z"
    },
    "papermill": {
     "duration": 0.0143,
     "end_time": "2025-07-10T14:51:04.213835",
     "exception": false,
     "start_time": "2025-07-10T14:51:04.199535",
     "status": "completed"
    },
    "tags": []
   },
   "outputs": [],
   "source": [
    "\n",
    "\n",
    "preprocessor=ColumnTransformer(transformers=[\n",
    "    ('text',TfidfVectorizer(),'text'),\n",
    "    ('location',TfidfVectorizer(),'text'),\n",
    "    ('keyword',TfidfVectorizer(),'keyword')\n",
    "])\n",
    "pipeline=Pipeline(steps=[\n",
    "    ('preprocessor',preprocessor),\n",
    "    ('classifier',MultinomialNB())\n",
    "])\n",
    "X=train[['keyword','location','text']]\n",
    "y=train['target']\n"
   ]
  },
  {
   "cell_type": "code",
   "execution_count": 7,
   "id": "a53d167e",
   "metadata": {
    "execution": {
     "iopub.execute_input": "2025-07-10T14:51:04.220673Z",
     "iopub.status.busy": "2025-07-10T14:51:04.220329Z",
     "iopub.status.idle": "2025-07-10T14:51:04.734175Z",
     "shell.execute_reply": "2025-07-10T14:51:04.733077Z"
    },
    "papermill": {
     "duration": 0.519143,
     "end_time": "2025-07-10T14:51:04.735785",
     "exception": false,
     "start_time": "2025-07-10T14:51:04.216642",
     "status": "completed"
    },
    "tags": []
   },
   "outputs": [
    {
     "name": "stdout",
     "output_type": "stream",
     "text": [
      "----------classification report\n",
      "               precision    recall  f1-score   support\n",
      "\n",
      "           0       0.88      0.79      0.83      1218\n",
      "           1       0.69      0.81      0.75       686\n",
      "\n",
      "    accuracy                           0.80      1904\n",
      "   macro avg       0.79      0.80      0.79      1904\n",
      "weighted avg       0.81      0.80      0.80      1904\n",
      "\n",
      "----------accuracy score\n",
      " 0.7998949579831933\n"
     ]
    }
   ],
   "source": [
    "X_train,X_test,y_train,y_test=train_test_split(X,y,random_state=42)\n",
    "\n",
    "pipeline.fit(X_train,y_train)\n",
    "predict=pipeline.predict(X_test)\n",
    "print(\"----------classification report\\n\",classification_report(predict,y_test))\n",
    "print(\"----------accuracy score\\n\",accuracy_score(predict,y_test))\n",
    "main_predict=pipeline.predict(test_main)\n"
   ]
  },
  {
   "cell_type": "markdown",
   "id": "c59f32f1",
   "metadata": {
    "papermill": {
     "duration": 0.002345,
     "end_time": "2025-07-10T14:51:04.740930",
     "exception": false,
     "start_time": "2025-07-10T14:51:04.738585",
     "status": "completed"
    },
    "tags": []
   },
   "source": []
  },
  {
   "cell_type": "code",
   "execution_count": 8,
   "id": "1dbc6a84",
   "metadata": {
    "execution": {
     "iopub.execute_input": "2025-07-10T14:51:04.747867Z",
     "iopub.status.busy": "2025-07-10T14:51:04.746712Z",
     "iopub.status.idle": "2025-07-10T14:51:04.762680Z",
     "shell.execute_reply": "2025-07-10T14:51:04.761660Z"
    },
    "papermill": {
     "duration": 0.021321,
     "end_time": "2025-07-10T14:51:04.764610",
     "exception": false,
     "start_time": "2025-07-10T14:51:04.743289",
     "status": "completed"
    },
    "tags": []
   },
   "outputs": [],
   "source": [
    "submission=pd.DataFrame({\n",
    "    \"id\":test.id,\n",
    "    \"target\":main_predict\n",
    "})\n",
    "submission.to_csv(\"submissions.csv\",index=False)\n"
   ]
  }
 ],
 "metadata": {
  "kaggle": {
   "accelerator": "none",
   "dataSources": [
    {
     "databundleVersionId": 869809,
     "sourceId": 17777,
     "sourceType": "competition"
    }
   ],
   "dockerImageVersionId": 31040,
   "isGpuEnabled": false,
   "isInternetEnabled": false,
   "language": "python",
   "sourceType": "notebook"
  },
  "kernelspec": {
   "display_name": "Python 3",
   "language": "python",
   "name": "python3"
  },
  "language_info": {
   "codemirror_mode": {
    "name": "ipython",
    "version": 3
   },
   "file_extension": ".py",
   "mimetype": "text/x-python",
   "name": "python",
   "nbconvert_exporter": "python",
   "pygments_lexer": "ipython3",
   "version": "3.11.11"
  },
  "papermill": {
   "default_parameters": {},
   "duration": 11.958886,
   "end_time": "2025-07-10T14:51:05.689537",
   "environment_variables": {},
   "exception": null,
   "input_path": "__notebook__.ipynb",
   "output_path": "__notebook__.ipynb",
   "parameters": {},
   "start_time": "2025-07-10T14:50:53.730651",
   "version": "2.6.0"
  }
 },
 "nbformat": 4,
 "nbformat_minor": 5
}
